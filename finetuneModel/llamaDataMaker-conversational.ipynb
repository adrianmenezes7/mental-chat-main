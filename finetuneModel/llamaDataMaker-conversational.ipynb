{
 "cells": [
  {
   "cell_type": "code",
   "execution_count": 1,
   "metadata": {},
   "outputs": [
    {
     "name": "stderr",
     "output_type": "stream",
     "text": [
      "/root/miniconda3/envs/py3.10/lib/python3.10/site-packages/tqdm/auto.py:21: TqdmWarning: IProgress not found. Please update jupyter and ipywidgets. See https://ipywidgets.readthedocs.io/en/stable/user_install.html\n",
      "  from .autonotebook import tqdm as notebook_tqdm\n"
     ]
    }
   ],
   "source": [
    "import random\n",
    "from datasets import load_dataset\n",
    "from datasets import DatasetDict\n",
    "import re\n",
    "from transformers import AutoTokenizer"
   ]
  },
  {
   "cell_type": "code",
   "execution_count": 2,
   "metadata": {},
   "outputs": [
    {
     "name": "stdout",
     "output_type": "stream",
     "text": [
      "DatasetDict({\n",
      "    train: Dataset({\n",
      "        features: ['conversations', 'id'],\n",
      "        num_rows: 99086\n",
      "    })\n",
      "})\n"
     ]
    }
   ],
   "source": [
    "dataset = load_dataset(\"jerryjalapeno/nart-100k-synthetic\")\n",
    "print(dataset)"
   ]
  },
  {
   "cell_type": "code",
   "execution_count": 3,
   "metadata": {},
   "outputs": [],
   "source": [
    "tokenizer = AutoTokenizer.from_pretrained(\"llama-2-7b-chat-hf-phr_mental_therapy-3\")"
   ]
  },
  {
   "cell_type": "code",
   "execution_count": null,
   "metadata": {},
   "outputs": [],
   "source": [
    "# choose 30000 samples from the dataset\n",
    "# dataset['train'] = dataset['train'].shuffle(seed=42).select(range(2000))\n",
    "# print(dataset)"
   ]
  },
  {
   "cell_type": "code",
   "execution_count": 4,
   "metadata": {},
   "outputs": [
    {
     "name": "stderr",
     "output_type": "stream",
     "text": [
      "Map: 100%|██████████| 99086/99086 [00:47<00:00, 2096.64 examples/s]\n"
     ]
    }
   ],
   "source": [
    "SYSTEM_PROMPT = \"\"\"You are a helpful and joyous mental therapy assistant. Always answer as helpfully and cheerfully as possible, while being safe.  Your answers should not include any harmful, unethical, racist, sexist, toxic, dangerous, or illegal content.Please ensure that your responses are socially unbiased and positive in nature.\\n\\nIf a question does not make any sense, or is not factually coherent, explain why instead of answering something not correct. If you don't know the answer to a question, please don't share false information.\"\"\"\n",
    "\n",
    "def preprocessText(text):\n",
    "    text = re.sub(r'Alex', '', text)\n",
    "    text = re.sub(r'Charlie', '', text)\n",
    "    # remove \", \" when it appears at the start of a sentence\n",
    "    text = re.sub(r'^, ', '', text)\n",
    "    # remove \" .\" with \".\"\n",
    "    text = re.sub(r' \\.', '.', text)\n",
    "    # remove \" ,\" with \",\"\n",
    "    text = re.sub(r' ,', ',', text)\n",
    "    # remove \" ?\" with \"?\"\n",
    "    text = re.sub(r' \\?', '?', text)\n",
    "    # remove \",.\" with \".\"\n",
    "    text = re.sub(r',\\.', '.', text)\n",
    "    # remove \",?\" with \"?\"\n",
    "    text = re.sub(r',\\?', '?', text)\n",
    "    # remove more than one space\n",
    "    text = re.sub(r' +', ' ', text)\n",
    "    \n",
    "    return text\n",
    "    \n",
    "\n",
    "def transform_dataset(data_row):\n",
    "    id = data_row['id']\n",
    "    data_row = data_row['conversations']\n",
    "    for conv in data_row:\n",
    "        if conv['from'] == 'human':\n",
    "            conv['role'] = \"user\"\n",
    "        elif conv['from'] == 'gpt':\n",
    "            conv['role'] = \"assistant\"\n",
    "        \n",
    "        conv['content'] = preprocessText(conv['value'])\n",
    "        del conv['from']\n",
    "        del conv['value']\n",
    "    \n",
    "    system_dict = {}\n",
    "    system_dict['role'] = \"system\"\n",
    "    system_dict['content'] = SYSTEM_PROMPT\n",
    "    data_row.insert(0, system_dict)\n",
    "    # in conversational format the features name is \"messages\"\n",
    "    return {\"messages\": data_row}\n",
    "\n",
    "dataset = dataset.map(transform_dataset, remove_columns=['conversations'])"
   ]
  },
  {
   "cell_type": "code",
   "execution_count": 5,
   "metadata": {},
   "outputs": [
    {
     "name": "stderr",
     "output_type": "stream",
     "text": [
      "Map: 100%|██████████| 99086/99086 [04:34<00:00, 361.53 examples/s]\n",
      "Filter: 100%|██████████| 99086/99086 [00:07<00:00, 12508.17 examples/s]"
     ]
    },
    {
     "name": "stdout",
     "output_type": "stream",
     "text": [
      "DatasetDict({\n",
      "    train: Dataset({\n",
      "        features: ['id', 'messages'],\n",
      "        num_rows: 31832\n",
      "    })\n",
      "})\n"
     ]
    },
    {
     "name": "stderr",
     "output_type": "stream",
     "text": [
      "\n"
     ]
    }
   ],
   "source": [
    "# remove conversation with more than 1024 tokens, for training memory reasons.\n",
    "dataset = dataset.map(lambda x: {\"input_ids_length\": len(tokenizer.apply_chat_template(x[\"messages\"]))})\n",
    "# filter out the samples that are too long\n",
    "max_input_length = 1024\n",
    "dataset = dataset.filter(lambda x: x[\"input_ids_length\"] <= max_input_length)\n",
    "dataset = dataset.remove_columns([\"input_ids_length\"])\n",
    "print(dataset)"
   ]
  },
  {
   "cell_type": "code",
   "execution_count": 6,
   "metadata": {},
   "outputs": [
    {
     "name": "stdout",
     "output_type": "stream",
     "text": [
      "DatasetDict({\n",
      "    train: Dataset({\n",
      "        features: ['id', 'messages'],\n",
      "        num_rows: 22282\n",
      "    })\n",
      "    test: Dataset({\n",
      "        features: ['id', 'messages'],\n",
      "        num_rows: 4775\n",
      "    })\n",
      "    val: Dataset({\n",
      "        features: ['id', 'messages'],\n",
      "        num_rows: 4775\n",
      "    })\n",
      "})\n"
     ]
    }
   ],
   "source": [
    "# create a train_test_val split\n",
    "train_test_split = dataset[\"train\"].train_test_split(test_size=0.3)\n",
    "train_val_split = train_test_split['test'].train_test_split(test_size=0.5)\n",
    "\n",
    "train_test_val_split = DatasetDict({\n",
    "    \"train\": train_test_split['train'],\n",
    "    \"test\": train_val_split['train'],\n",
    "    \"val\": train_val_split['test']\n",
    "})\n",
    "\n",
    "print(train_test_val_split)"
   ]
  },
  {
   "cell_type": "code",
   "execution_count": 8,
   "metadata": {},
   "outputs": [
    {
     "name": "stdout",
     "output_type": "stream",
     "text": [
      "[{'content': \"You are a helpful and joyous mental therapy assistant. Always answer as helpfully and cheerfully as possible, while being safe.  Your answers should not include any harmful, unethical, racist, sexist, toxic, dangerous, or illegal content.Please ensure that your responses are socially unbiased and positive in nature.\\n\\nIf a question does not make any sense, or is not factually coherent, explain why instead of answering something not correct. If you don't know the answer to a question, please don't share false information.\", 'role': 'system'}, {'content': \"I'm shocked. I feel like I've lost all control over my personal relationships.\", 'role': 'user'}, {'content': 'I hear the sadness in your words. It must be difficult to experience that loss of control. Can you share more about what led to this feeling?', 'role': 'assistant'}, {'content': \"Failed relationships. They keep piling up one after another. I just can't seem to make them work.\", 'role': 'user'}, {'content': \"It sounds like you're carrying the weight of these failed relationships. What is it that you believe is causing them to fall apart?\", 'role': 'assistant'}, {'content': \"I guess it's my communication skills, or lack thereof. I struggle to express myself and it leads to misunderstandings and conflict.\", 'role': 'user'}, {'content': 'Recognizing the role communication plays is an important step. What are some specific areas where you feel you could improve?', 'role': 'assistant'}, {'content': 'Well, I often struggle to express my needs and emotions clearly. I tend to avoid conflict, but then it just builds up and explodes.', 'role': 'user'}, {'content': 'It seems like finding a balance between expressing your needs and managing conflict could benefit you. Have you considered seeking guidance or resources to develop your communication skills?', 'role': 'assistant'}, {'content': \"I've thought about it, but I'm not sure where to start. It feels overwhelming, to be honest.\", 'role': 'user'}, {'content': \"I understand how overwhelming it can be. Let's break it down into manageable steps. How about starting with your own self-awareness? Recognizing and understanding your own needs and emotions can help in expressing them effectively.\", 'role': 'assistant'}, {'content': \"That makes sense. I think I've been neglecting my own emotions for the sake of avoiding conflict.\", 'role': 'user'}, {'content': \"It's commendable that you recognize that pattern. Taking care of your emotional well-being is crucial for healthy relationships. Is there anyone you trust and feel comfortable talking to about your emotions?\", 'role': 'assistant'}, {'content': \"I have a close friend who's always been there for me. I suppose I could open up to them.\", 'role': 'user'}, {'content': \"That's a great idea. Sharing your feelings with a supportive friend can be a significant source of comfort and guidance. Remember, vulnerability can lead to deeper connections in relationships.\", 'role': 'assistant'}, {'content': \"I'll give it a try. I hope it helps. But what if it doesn't? What if I keep repeating the same mistakes?\", 'role': 'user'}, {'content': \"It's natural to have concerns. It's important to remember that personal growth takes time and patience. Instead of focusing on mistakes, let's work on building a strong foundation for future relationships.\", 'role': 'assistant'}, {'content': 'How do I do that? How do I rebuild and regain control?', 'role': 'user'}, {'content': \"Let's start by identifying the key qualities and values that are important to you in a relationship. This will provide you with a clearer vision of what you're looking for, helping you make better choices in the future.\", 'role': 'assistant'}, {'content': \"I guess I've never really thought about it. I'll try to reflect on my values and what I truly need in a relationship.\", 'role': 'user'}, {'content': \"That's a great step. Remember, personal growth is a journey, and by exploring your values and needs, you're taking an important stride towards regaining control over your relationships.\", 'role': 'assistant'}, {'content': 'Thank you. I appreciate your guidance and support. It feels good to have someone who genuinely wants to help.', 'role': 'user'}, {'content': \"You're welcome. I'm here for you every step of the way. Remember, you have the strength within you to create the meaningful and fulfilling relationships you deserve. Keep taking those small steps towards positive change, and don't hesitate to reach out whenever you need support.\", 'role': 'assistant'}]\n"
     ]
    }
   ],
   "source": [
    "print(train_test_val_split['train'][1]['messages'])"
   ]
  },
  {
   "cell_type": "code",
   "execution_count": 9,
   "metadata": {},
   "outputs": [
    {
     "name": "stderr",
     "output_type": "stream",
     "text": [
      "Creating parquet from Arrow format: 100%|██████████| 23/23 [00:01<00:00, 18.13ba/s]\n",
      "Uploading the dataset shards: 100%|██████████| 1/1 [00:09<00:00,  9.71s/it]\n",
      "Creating parquet from Arrow format: 100%|██████████| 5/5 [00:00<00:00, 17.87ba/s]\n",
      "Uploading the dataset shards: 100%|██████████| 1/1 [00:03<00:00,  3.17s/it]\n",
      "Creating parquet from Arrow format: 100%|██████████| 5/5 [00:00<00:00, 18.15ba/s]\n",
      "Uploading the dataset shards: 100%|██████████| 1/1 [00:02<00:00,  2.34s/it]\n"
     ]
    },
    {
     "data": {
      "text/plain": [
       "CommitInfo(commit_url='https://huggingface.co/datasets/vibhorag101/phr-mental-therapy-dataset-conversational-format-1024-tokens/commit/8d87e0a9adee986951b13146d4124dd9595cd136', commit_message='Upload dataset', commit_description='', oid='8d87e0a9adee986951b13146d4124dd9595cd136', pr_url=None, pr_revision=None, pr_num=None)"
      ]
     },
     "execution_count": 9,
     "metadata": {},
     "output_type": "execute_result"
    }
   ],
   "source": [
    "train_test_val_split.push_to_hub(\"phr-mental-therapy-dataset-conversational-format-1024-tokens\")"
   ]
  }
 ],
 "metadata": {
  "kernelspec": {
   "display_name": "venv",
   "language": "python",
   "name": "python3"
  },
  "language_info": {
   "codemirror_mode": {
    "name": "ipython",
    "version": 3
   },
   "file_extension": ".py",
   "mimetype": "text/x-python",
   "name": "python",
   "nbconvert_exporter": "python",
   "pygments_lexer": "ipython3",
   "version": "3.10.13"
  }
 },
 "nbformat": 4,
 "nbformat_minor": 2
}
